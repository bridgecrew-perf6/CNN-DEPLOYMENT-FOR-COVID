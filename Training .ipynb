{
 "cells": [
  {
   "cell_type": "code",
   "execution_count": 1,
   "metadata": {},
   "outputs": [],
   "source": [
    "import pickle"
   ]
  },
  {
   "cell_type": "code",
   "execution_count": 2,
   "metadata": {},
   "outputs": [],
   "source": [
    "X = pickle.load(open('X.pkl', 'rb')) # loading preproccesed images\n",
    "y = pickle.load(open('y.pkl', 'rb'))# loading Labels"
   ]
  },
  {
   "cell_type": "code",
   "execution_count": 3,
   "metadata": {},
   "outputs": [
    {
     "data": {
      "text/plain": [
       "array([0, 0, 0, ..., 1, 1, 1])"
      ]
     },
     "execution_count": 3,
     "metadata": {},
     "output_type": "execute_result"
    }
   ],
   "source": [
    "y"
   ]
  },
  {
   "cell_type": "code",
   "execution_count": 4,
   "metadata": {},
   "outputs": [],
   "source": [
    "X = X/255 # normalizing images "
   ]
  },
  {
   "cell_type": "code",
   "execution_count": null,
   "metadata": {},
   "outputs": [],
   "source": []
  },
  {
   "cell_type": "code",
   "execution_count": 5,
   "metadata": {},
   "outputs": [],
   "source": [
    "X = X.reshape(-1, 100, 100, 1) # reshaping it for CNN"
   ]
  },
  {
   "cell_type": "code",
   "execution_count": 6,
   "metadata": {},
   "outputs": [],
   "source": [
    "import tensorflow as tf"
   ]
  },
  {
   "cell_type": "code",
   "execution_count": 7,
   "metadata": {},
   "outputs": [],
   "source": [
    "from tensorflow import keras\n",
    "from tensorflow.keras.models import Sequential\n",
    "from tensorflow.keras.layers import Conv2D, MaxPooling2D, Dense, Flatten\n",
    "from tensorflow.keras.models import Sequential\n",
    "from tensorflow.keras.layers import Dense, Dropout, Flatten\n",
    "from tensorflow.keras.layers import Conv2D,Activation,MaxPooling2D\n"
   ]
  },
  {
   "cell_type": "code",
   "execution_count": 8,
   "metadata": {},
   "outputs": [],
   "source": [
    "# Designing CNN\n",
    "model = Sequential()\n",
    "\n",
    "model.add(Conv2D(64, (3,3), activation = 'relu')) \n",
    "model.add(MaxPooling2D((2,2)))\n",
    "\n",
    "model.add(Conv2D(32, (3,3), activation = 'relu'))\n",
    "model.add(MaxPooling2D((2,2)))\n",
    "\n",
    "model.add(Flatten())\n",
    "\n",
    "model.add(Dense(128, input_shape = X.shape[1:], activation = 'relu'))\n",
    "model.add(Dropout(0.5))\n",
    "\n",
    "model.add(Dense(128,activation='relu'))\n",
    "model.add(Dropout(0.5))\n",
    "\n",
    "model.add(Dense(64,activation='relu'))\n",
    "model.add(Dropout(0.5))\n",
    "\n",
    "model.add(Dense(2, activation = 'softmax'))"
   ]
  },
  {
   "cell_type": "code",
   "execution_count": 9,
   "metadata": {},
   "outputs": [],
   "source": [
    "from sklearn.model_selection import train_test_split\n",
    "\n",
    "train_data,test_data,train_target,test_target=train_test_split(X,y,test_size=0.1)"
   ]
  },
  {
   "cell_type": "code",
   "execution_count": 10,
   "metadata": {},
   "outputs": [],
   "source": [
    "model.compile(optimizer='adam',\n",
    "              loss='sparse_categorical_crossentropy',\n",
    "              metrics=['accuracy'])"
   ]
  },
  {
   "cell_type": "code",
   "execution_count": 11,
   "metadata": {},
   "outputs": [
    {
     "name": "stdout",
     "output_type": "stream",
     "text": [
      "Epoch 1/15\n",
      "64/64 [==============================] - 19s 289ms/step - loss: 0.4123 - accuracy: 0.7719\n",
      "Epoch 2/15\n",
      "64/64 [==============================] - 19s 304ms/step - loss: 0.1386 - accuracy: 0.9608\n",
      "Epoch 3/15\n",
      "64/64 [==============================] - 19s 300ms/step - loss: 0.0891 - accuracy: 0.9726\n",
      "Epoch 4/15\n",
      "64/64 [==============================] - 20s 306ms/step - loss: 0.0721 - accuracy: 0.9819\n",
      "Epoch 5/15\n",
      "64/64 [==============================] - 19s 296ms/step - loss: 0.0773 - accuracy: 0.9799\n",
      "Epoch 6/15\n",
      "64/64 [==============================] - 19s 297ms/step - loss: 0.0631 - accuracy: 0.9819\n",
      "Epoch 7/15\n",
      "64/64 [==============================] - 19s 298ms/step - loss: 0.0503 - accuracy: 0.9868\n",
      "Epoch 8/15\n",
      "64/64 [==============================] - 20s 308ms/step - loss: 0.0651 - accuracy: 0.9809\n",
      "Epoch 9/15\n",
      "64/64 [==============================] - 20s 310ms/step - loss: 0.0450 - accuracy: 0.9878\n",
      "Epoch 10/15\n",
      "64/64 [==============================] - 20s 305ms/step - loss: 0.0436 - accuracy: 0.9853\n",
      "Epoch 11/15\n",
      "64/64 [==============================] - 20s 307ms/step - loss: 0.0261 - accuracy: 0.9922\n",
      "Epoch 12/15\n",
      "64/64 [==============================] - 20s 311ms/step - loss: 0.0205 - accuracy: 0.9931\n",
      "Epoch 13/15\n",
      "64/64 [==============================] - 20s 313ms/step - loss: 0.0249 - accuracy: 0.9907\n",
      "Epoch 14/15\n",
      "64/64 [==============================] - 20s 310ms/step - loss: 0.0361 - accuracy: 0.9917\n",
      "Epoch 15/15\n",
      "64/64 [==============================] - 20s 310ms/step - loss: 0.0228 - accuracy: 0.9946\n"
     ]
    },
    {
     "data": {
      "text/plain": [
       "<keras.callbacks.History at 0x242ceb32bb0>"
      ]
     },
     "execution_count": 11,
     "metadata": {},
     "output_type": "execute_result"
    }
   ],
   "source": [
    "model.fit(train_data,train_target,epochs=15)"
   ]
  },
  {
   "cell_type": "code",
   "execution_count": 12,
   "metadata": {},
   "outputs": [
    {
     "name": "stdout",
     "output_type": "stream",
     "text": [
      "8/8 [==============================] - 1s 66ms/step - loss: 0.0439 - accuracy: 0.9956\n",
      "[0.04391228407621384, 0.9956140518188477]\n"
     ]
    }
   ],
   "source": [
    "print(model.evaluate(test_data,test_target))# evaluate test data"
   ]
  },
  {
   "cell_type": "code",
   "execution_count": 13,
   "metadata": {},
   "outputs": [
    {
     "name": "stdout",
     "output_type": "stream",
     "text": [
      "INFO:tensorflow:Assets written to: Covid_model\\assets\n"
     ]
    }
   ],
   "source": [
    "model.save(r'Covid_model') #saved the  model"
   ]
  },
  {
   "cell_type": "code",
   "execution_count": null,
   "metadata": {},
   "outputs": [],
   "source": []
  }
 ],
 "metadata": {
  "kernelspec": {
   "display_name": "Python 3 (ipykernel)",
   "language": "python",
   "name": "python3"
  },
  "language_info": {
   "codemirror_mode": {
    "name": "ipython",
    "version": 3
   },
   "file_extension": ".py",
   "mimetype": "text/x-python",
   "name": "python",
   "nbconvert_exporter": "python",
   "pygments_lexer": "ipython3",
   "version": "3.9.7"
  }
 },
 "nbformat": 4,
 "nbformat_minor": 4
}
